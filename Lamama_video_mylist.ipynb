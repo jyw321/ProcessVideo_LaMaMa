{
 "cells": [
  {
   "cell_type": "code",
   "execution_count": 18,
   "metadata": {},
   "outputs": [],
   "source": [
    "import os\n",
    "import path\n",
    "import re\n",
    "import glob"
   ]
  },
  {
   "cell_type": "code",
   "execution_count": 19,
   "metadata": {},
   "outputs": [],
   "source": [
    "os.chdir('/volumes/samsung_t5/lamama_videos/testing/testing_file_concat')"
   ]
  },
  {
   "cell_type": "code",
   "execution_count": 20,
   "metadata": {},
   "outputs": [
    {
     "data": {
      "text/plain": [
       "'/Volumes/Samsung_T5/LaMaMa_Videos/Testing/testing_file_concat'"
      ]
     },
     "execution_count": 20,
     "metadata": {},
     "output_type": "execute_result"
    }
   ],
   "source": [
    "os.getcwd()"
   ]
  },
  {
   "cell_type": "code",
   "execution_count": 21,
   "metadata": {},
   "outputs": [],
   "source": [
    "video_dir = '/volumes/samsung_t5/lamama_videos/testing/testing_file_concat'"
   ]
  },
  {
   "cell_type": "code",
   "execution_count": 22,
   "metadata": {},
   "outputs": [],
   "source": [
    "mp4_list = glob.glob(os.path.join(video_dir, \"**\", \"*MP4\"), recursive=True)"
   ]
  },
  {
   "cell_type": "code",
   "execution_count": 23,
   "metadata": {},
   "outputs": [
    {
     "data": {
      "text/plain": [
       "['/volumes/samsung_t5/lamama_videos/testing/testing_file_concat/453_1725_05-2.MP4',\n",
       " '/volumes/samsung_t5/lamama_videos/testing/testing_file_concat/453_1725_05-3.MP4',\n",
       " '/volumes/samsung_t5/lamama_videos/testing/testing_file_concat/453_1725_05-1.MP4']"
      ]
     },
     "execution_count": 23,
     "metadata": {},
     "output_type": "execute_result"
    }
   ],
   "source": [
    "mp4_list"
   ]
  },
  {
   "cell_type": "code",
   "execution_count": 28,
   "metadata": {},
   "outputs": [],
   "source": [
    "mp4_list.sort()"
   ]
  },
  {
   "cell_type": "code",
   "execution_count": 29,
   "metadata": {},
   "outputs": [],
   "source": [
    "filename = 'mylist.txt'\n",
    "with open (filename, 'w') as f:\n",
    "    for item in mp4_list:\n",
    "        f.write ('file \\'' + os.path.basename(item) + '\\'\\n')\n",
    "        "
   ]
  },
  {
   "cell_type": "code",
   "execution_count": 11,
   "metadata": {},
   "outputs": [
    {
     "data": {
      "text/plain": [
       "'/Users/klavierwong'"
      ]
     },
     "execution_count": 11,
     "metadata": {},
     "output_type": "execute_result"
    }
   ],
   "source": [
    "os.getcwd()"
   ]
  },
  {
   "cell_type": "code",
   "execution_count": 30,
   "metadata": {},
   "outputs": [
    {
     "name": "stdout",
     "output_type": "stream",
     "text": [
      "['/volumes/samsung_t5/lamama_videos/testing/testing_file_concat/453_1725_05-1.MP4', '/volumes/samsung_t5/lamama_videos/testing/testing_file_concat/453_1725_05-2.MP4', '/volumes/samsung_t5/lamama_videos/testing/testing_file_concat/453_1725_05-3.MP4']\n"
     ]
    }
   ],
   "source": [
    "s = [mp4_list]\n",
    "listToStr = ' '.join([str(elem) for elem in s]) \n",
    "  \n",
    "print(listToStr) "
   ]
  },
  {
   "cell_type": "code",
   "execution_count": 31,
   "metadata": {},
   "outputs": [
    {
     "name": "stdout",
     "output_type": "stream",
     "text": [
      "file '453_1725_05-1.MP4'\n"
     ]
    }
   ],
   "source": [
    "path_re = re.compile(r'\\d\\d\\d_\\d\\d\\d\\d_\\d\\d-\\d') \n",
    "mo = path_re.findall(listToStr)\n",
    "print('file \\'' + mo[0] + '.MP4\\'')"
   ]
  },
  {
   "cell_type": "code",
   "execution_count": null,
   "metadata": {},
   "outputs": [],
   "source": []
  }
 ],
 "metadata": {
  "kernelspec": {
   "display_name": "Python 3",
   "language": "python",
   "name": "python3"
  },
  "language_info": {
   "codemirror_mode": {
    "name": "ipython",
    "version": 3
   },
   "file_extension": ".py",
   "mimetype": "text/x-python",
   "name": "python",
   "nbconvert_exporter": "python",
   "pygments_lexer": "ipython3",
   "version": "3.7.6"
  }
 },
 "nbformat": 4,
 "nbformat_minor": 4
}
